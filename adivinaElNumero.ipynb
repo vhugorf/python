{
  "nbformat": 4,
  "nbformat_minor": 0,
  "metadata": {
    "colab": {
      "provenance": [],
      "mount_file_id": "1t2QTk8cUMMoa061Ei1wavkutYags4Zsm",
      "authorship_tag": "ABX9TyMEN1K14PDcV+vt68+TFW9y",
      "include_colab_link": true
    },
    "kernelspec": {
      "name": "python3",
      "display_name": "Python 3"
    },
    "language_info": {
      "name": "python"
    }
  },
  "cells": [
    {
      "cell_type": "markdown",
      "metadata": {
        "id": "view-in-github",
        "colab_type": "text"
      },
      "source": [
        "<a href=\"https://colab.research.google.com/github/vhugorf/python/blob/main/adivinaElNumero.ipynb\" target=\"_parent\"><img src=\"https://colab.research.google.com/assets/colab-badge.svg\" alt=\"Open In Colab\"/></a>"
      ]
    },
    {
      "cell_type": "code",
      "execution_count": 1,
      "metadata": {
        "colab": {
          "base_uri": "https://localhost:8080/"
        },
        "id": "JZGzpN8gD9O6",
        "outputId": "f506e049-dec9-444e-9f7e-ebaae168203a"
      },
      "outputs": [
        {
          "output_type": "stream",
          "name": "stdout",
          "text": [
            "¿Cuál es tu nombre? xzd\n",
            "Hola xzd dame un número entre 1 y 10\n",
            "Tienes 3 intentos\n",
            "\n",
            "\n",
            "Introduce un número: 34\n",
            "opción fuera de rango, selecciona uno entre 1 y 10\n",
            "\n",
            "Introduce un número: 23\n",
            "opción fuera de rango, selecciona uno entre 1 y 10\n",
            "\n",
            "Introduce un número: 1\n",
            "el número es mayor\n",
            "\n",
            "xzd has perdido, el número era 2\n"
          ]
        }
      ],
      "source": [
        "from random import randint\n",
        "\n",
        "intentos = 3\n",
        "intentos_realizados = 0\n",
        "limite = 10\n",
        "numero_secreto = randint(1, limite)\n",
        "\n",
        "nombre = input(\"¿Cuál es tu nombre? \")\n",
        "print(f\"Hola {nombre} dame un número entre 1 y {limite}\\nTienes {intentos} intentos\\n\\n\")\n",
        "\n",
        "\n",
        "#print(f\"el número es {numero_secreto}\")\n",
        "while intentos_realizados < intentos:\n",
        "  intento = int(input(\"Introduce un número: \"))\n",
        "  intentos_realizados+=1\n",
        "\n",
        "  #if intento<=0 or intento>10:\n",
        "  if intento not in range(1, limite):\n",
        "    print(\"opción fuera de rango, selecciona uno entre 1 y 10\\n\")\n",
        "  elif (intento < numero_secreto):\n",
        "    print(\"el número es mayor\\n\")\n",
        "  elif (intento > numero_secreto):\n",
        "    print(\"el número es menor\\n\")\n",
        "  else:\n",
        "    print(f\"{nombre} has acertado en {intentos_realizados} intentos\\n\")\n",
        "    break\n",
        "\n",
        "if intento!=numero_secreto:\n",
        "  print(f\"{nombre} has perdido, el número era {numero_secreto}\")"
      ]
    }
  ]
}