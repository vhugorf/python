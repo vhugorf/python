{
  "nbformat": 4,
  "nbformat_minor": 0,
  "metadata": {
    "colab": {
      "provenance": [],
      "authorship_tag": "ABX9TyMTKIuEl0xStiPY3MDJtVxk",
      "include_colab_link": true
    },
    "kernelspec": {
      "name": "python3",
      "display_name": "Python 3"
    },
    "language_info": {
      "name": "python"
    }
  },
  "cells": [
    {
      "cell_type": "markdown",
      "metadata": {
        "id": "view-in-github",
        "colab_type": "text"
      },
      "source": [
        "<a href=\"https://colab.research.google.com/github/vhugorf/python/blob/main/interaccion_Funciones.ipynb\" target=\"_parent\"><img src=\"https://colab.research.google.com/assets/colab-badge.svg\" alt=\"Open In Colab\"/></a>"
      ]
    },
    {
      "cell_type": "code",
      "execution_count": 1,
      "metadata": {
        "id": "k65s8okiK4Up"
      },
      "outputs": [],
      "source": [
        "from random import shuffle"
      ]
    },
    {
      "cell_type": "markdown",
      "source": [
        "# Lista inicial"
      ],
      "metadata": {
        "id": "wMiriUqZLMWQ"
      }
    },
    {
      "cell_type": "code",
      "source": [
        "# Lista inicial\n",
        "palitos = ['-', '--', '---', '----']"
      ],
      "metadata": {
        "id": "7vrgdLcMLLJP"
      },
      "execution_count": 12,
      "outputs": []
    },
    {
      "cell_type": "markdown",
      "source": [
        "Mezclar palitos"
      ],
      "metadata": {
        "id": "UcwHcL0nLTh3"
      }
    },
    {
      "cell_type": "code",
      "source": [
        "# mezclar palitos\n",
        "def mezclar(lista):\n",
        "\tshuffle(lista)\n",
        "\treturn lista\n",
        "\n",
        "print(mezclar(palitos))"
      ],
      "metadata": {
        "colab": {
          "base_uri": "https://localhost:8080/"
        },
        "id": "Iols0yPHLVbh",
        "outputId": "d6c1f89d-744e-4590-c098-7ca4e35d2289"
      },
      "execution_count": 29,
      "outputs": [
        {
          "output_type": "stream",
          "name": "stdout",
          "text": [
            "['---', '--', '-', '----']\n"
          ]
        }
      ]
    },
    {
      "cell_type": "markdown",
      "source": [
        "pedir interno"
      ],
      "metadata": {
        "id": "6tMNslRNLVmj"
      }
    },
    {
      "cell_type": "code",
      "source": [
        "# Pedit intento\n",
        "def probar_suerte():\n",
        "\tintento = ''\n",
        "\n",
        "\twhile intento not in ['1', '2', '3', '4']:\n",
        "\t\tintento = input(\"Elije un número del 1 al 4: \")\n",
        "\treturn int(intento)\n",
        "\n",
        "intento1 = probar_suerte()"
      ],
      "metadata": {
        "colab": {
          "base_uri": "https://localhost:8080/"
        },
        "id": "q_ARKlDtLYbD",
        "outputId": "94335cfa-3667-436a-efd6-c4b1bebe90bd"
      },
      "execution_count": 14,
      "outputs": [
        {
          "name": "stdout",
          "output_type": "stream",
          "text": [
            "Elije un número del 1 al 4: 2\n"
          ]
        }
      ]
    },
    {
      "cell_type": "markdown",
      "source": [
        "Comprobar intento"
      ],
      "metadata": {
        "id": "-fYIK_mKLhMb"
      }
    },
    {
      "cell_type": "code",
      "source": [
        "#Comprobar intento\n",
        "def chequear_intento(lista, intento):\n",
        "\tif lista[intento - 1] == '-':\n",
        "\t\tprint(\"perdiste\")\n",
        "\telse:\n",
        "\t\tprint(\"salvado\")\n",
        "\n",
        "\tprint(f\"Te ha tocado {lista[intento-1]}\")"
      ],
      "metadata": {
        "id": "VOdaCMwoLj8g"
      },
      "execution_count": 30,
      "outputs": []
    },
    {
      "cell_type": "markdown",
      "source": [
        "ejecutar"
      ],
      "metadata": {
        "id": "-ePgIqYzSFQL"
      }
    },
    {
      "cell_type": "code",
      "source": [
        "palitos_mezclados = mezclar(palitos)\n",
        "seleccion = probar_suerte()\n",
        "chequear_intento(palitos_mezclados, seleccion)"
      ],
      "metadata": {
        "colab": {
          "base_uri": "https://localhost:8080/"
        },
        "id": "nnnhFzfLSSZm",
        "outputId": "503db608-98df-4360-9be8-a188562cb325"
      },
      "execution_count": 32,
      "outputs": [
        {
          "output_type": "stream",
          "name": "stdout",
          "text": [
            "Elije un número del 1 al 4: 3\n",
            "perdiste\n",
            "Te ha tocado -\n"
          ]
        }
      ]
    }
  ]
}